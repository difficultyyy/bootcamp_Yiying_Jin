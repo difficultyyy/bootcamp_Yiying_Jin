{
 "cells": [
  {
   "cell_type": "markdown",
   "id": "95873b8e-bab7-46f4-9442-48e38a77d934",
   "metadata": {},
   "source": [
    "# Enviroment & Config Check"
   ]
  },
  {
   "cell_type": "code",
   "execution_count": 1,
   "id": "abb84211-cee1-411a-8afc-44a5ae1ed2dd",
   "metadata": {},
   "outputs": [
    {
     "name": "stdout",
     "output_type": "stream",
     "text": [
      "Imports OK\n",
      ".env loaded (if present)\n",
      "API_KEY present: True\n",
      "Array product: 120\n"
     ]
    }
   ],
   "source": [
    "import sys,os\n",
    "sys.path.append(os.path.abspath(\"..\"))\n",
    "from src.config import get_key, load_env\n",
    "\n",
    "load_env()\n",
    "print(\".env loaded (if present)\")\n",
    "\n",
    "api_key_present = get_key(\"API_KEY\") is not None\n",
    "print(\"API_KEY present:\",api_key_present)\n",
    "\n",
    "import numpy as np\n",
    "op = np.array([4,5,6])\n",
    "print(\"Array product:\" ,np.prod(op))"
   ]
  }
 ],
 "metadata": {
  "kernelspec": {
   "display_name": "Python 3 (ipykernel)",
   "language": "python",
   "name": "python3"
  },
  "language_info": {
   "codemirror_mode": {
    "name": "ipython",
    "version": 3
   },
   "file_extension": ".py",
   "mimetype": "text/x-python",
   "name": "python",
   "nbconvert_exporter": "python",
   "pygments_lexer": "ipython3",
   "version": "3.10.18"
  }
 },
 "nbformat": 4,
 "nbformat_minor": 5
}
