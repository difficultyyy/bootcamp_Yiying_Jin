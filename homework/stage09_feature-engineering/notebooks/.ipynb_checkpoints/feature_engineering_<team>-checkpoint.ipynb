{
 "cells": [
  {
   "cell_type": "code",
   "execution_count": 3,
   "id": "9b95617b-3997-4b2b-8021-6b9de3dd21d6",
   "metadata": {},
   "outputs": [],
   "source": [
    "import pandas as pd\n",
    "import numpy as np\n",
    "\n",
    "df = pd.read_csv(\"../data/raw/AAPL_20250823.csv\")"
   ]
  },
  {
   "cell_type": "markdown",
   "id": "62e3dc6a-e1b4-4697-a2a1-20ee55c8ff0f",
   "metadata": {},
   "source": [
    "### Feature 1\n",
    "\n",
    "**Net Change (`net = close – open`)**  \n",
    "- **Description**: Captures the daily price movement by subtracting the opening price from the closing price.  \n",
    "- **Rationale**:  \n",
    "    - Directly reflects intraday performance, distinguishing gain vs. loss days.  \n",
    "    - Based on EDA, the strong correlation between `open` and `close` suggested that their difference could better capture market dynamics than treating them separately.  \n",
    "    - This feature highlights volatility and directional shifts that are masked when only examining raw prices. "
   ]
  },
  {
   "cell_type": "code",
   "execution_count": 8,
   "id": "e2b13d16-02c1-4b6f-be05-f5f1ced1c702",
   "metadata": {},
   "outputs": [],
   "source": [
    "df['net'] = df['close'] - df['open']"
   ]
  },
  {
   "cell_type": "markdown",
   "id": "08df5bfb-9341-43f0-add8-5701ce462c42",
   "metadata": {},
   "source": [
    "### Rationale for Feature 1"
   ]
  },
  {
   "cell_type": "markdown",
   "id": "8f8263d1-6196-4315-a9ad-96ae37b38b5b",
   "metadata": {},
   "source": [
    "### Feature 2"
   ]
  },
  {
   "cell_type": "code",
   "execution_count": 9,
   "id": "ace9e976-f9b1-4260-8a6a-f7934c33fa18",
   "metadata": {},
   "outputs": [],
   "source": [
    "df['rolling_close_mean'] = df['close'].rolling(5).mean()"
   ]
  },
  {
   "cell_type": "markdown",
   "id": "07b99417-47fe-44ae-87e1-02cde6cce051",
   "metadata": {},
   "source": [
    "### Rationale for Feature 2 \n",
    "\n",
    "**5-Day Rolling Mean of Close (`rolling_close_mean`)**  \n",
    "- **Description**: Computes the average of the last 5 closing prices.  \n",
    "- **Rationale**:  \n",
    "    - Smooths out short-term fluctuations in `close` and captures local trends.  \n",
    "    - EDA showed that `close` was relatively stable but influenced by occasional shocks; a rolling mean reduces the impact of outliers while highlighting persistent upward or downward movement.  \n",
    "    - This feature provides temporal context for each day’s price, which can improve predictive modeling.  \n"
   ]
  },
  {
   "cell_type": "code",
   "execution_count": null,
   "id": "7e90dd58-5d18-4326-92b5-9b48f222b6ef",
   "metadata": {},
   "outputs": [],
   "source": []
  }
 ],
 "metadata": {
  "kernelspec": {
   "display_name": "Python 3 (ipykernel)",
   "language": "python",
   "name": "python3"
  },
  "language_info": {
   "codemirror_mode": {
    "name": "ipython",
    "version": 3
   },
   "file_extension": ".py",
   "mimetype": "text/x-python",
   "name": "python",
   "nbconvert_exporter": "python",
   "pygments_lexer": "ipython3",
   "version": "3.10.18"
  }
 },
 "nbformat": 4,
 "nbformat_minor": 5
}
